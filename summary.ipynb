{
 "cells": [
  {
   "cell_type": "code",
   "execution_count": 99,
   "outputs": [
    {
     "data": {
      "text/plain": "''"
     },
     "execution_count": 99,
     "metadata": {},
     "output_type": "execute_result"
    }
   ],
   "source": [
    "import re\n",
    "from requests import get\n",
    "\n",
    "response = get('https://fezvrasta.github.io/bootstrap-material-design/#getting-started')\n",
    "\n",
    "from bs4 import BeautifulSoup\n",
    "soup = BeautifulSoup(response.content, 'html.parser')\n",
    "\n",
    "article_text: str = ' '.join([p.text for p in soup.find_all('p')])\n",
    "# Removing Square Brackets and Extra Spaces\n",
    "article_text = re.sub(r'\\[[0-9]*\\]', ' ', article_text)\n",
    "article_text = re.sub(r'\\s+', ' ', article_text)\n",
    "article_text = re.sub(r\"\\n+\", \" \", article_text)\n",
    "\n",
    "# Removing special characters and digits\n",
    "formatted_article_text = re.sub('[^a-zA-Z]', ' ', article_text)\n",
    "formatted_article_text = re.sub(r'\\s+', ' ', formatted_article_text)\n",
    "formatted_article_text"
   ],
   "metadata": {
    "collapsed": false,
    "ExecuteTime": {
     "end_time": "2023-05-05T02:09:47.659684Z",
     "start_time": "2023-05-05T02:09:44.440899Z"
    }
   }
  },
  {
   "cell_type": "code",
   "execution_count": 93,
   "outputs": [
    {
     "name": "stderr",
     "output_type": "stream",
     "text": [
      "[nltk_data] Downloading package stopwords to\n",
      "[nltk_data]     /Users/hayden/nltk_data...\n",
      "[nltk_data]   Package stopwords is already up-to-date!\n",
      "[nltk_data] Downloading package punkt to /Users/hayden/nltk_data...\n",
      "[nltk_data]   Package punkt is already up-to-date!\n"
     ]
    }
   ],
   "source": [
    "import nltk\n",
    "nltk.download(\"stopwords\")\n",
    "nltk.download(\"punkt\")\n",
    "from nltk.corpus import stopwords\n",
    "stop_words = stopwords.words(\"english\")"
   ],
   "metadata": {
    "collapsed": false,
    "ExecuteTime": {
     "end_time": "2023-05-05T02:08:55.716928Z",
     "start_time": "2023-05-05T02:08:55.711739Z"
    }
   }
  },
  {
   "cell_type": "code",
   "execution_count": 94,
   "outputs": [],
   "source": [
    "from bs4 import BeautifulSoup\n",
    "soup = BeautifulSoup(response.content, 'html.parser')\n",
    "sentence_list = nltk.sent_tokenize(article_text)"
   ],
   "metadata": {
    "collapsed": false,
    "ExecuteTime": {
     "end_time": "2023-05-05T02:08:57.768688Z",
     "start_time": "2023-05-05T02:08:57.765674Z"
    }
   }
  },
  {
   "cell_type": "code",
   "execution_count": 95,
   "outputs": [
    {
     "data": {
      "text/plain": "{'Find': 1,\n 'centralized': 1,\n 'trusted': 1,\n 'content': 1,\n 'collaborate': 1,\n 'around': 1,\n 'technologies': 1,\n 'use': 1,\n 'Teams': 1,\n 'Q': 1,\n 'A': 1,\n 'work': 1,\n 'Connect': 1,\n 'share': 1,\n 'knowledge': 1,\n 'within': 1,\n 'single': 1,\n 'location': 1,\n 'structured': 1,\n 'easy': 1,\n 'search': 1,\n 'This': 1,\n 'question': 2,\n 'removed': 2,\n 'Stack': 2,\n 'Overflow': 1,\n 'reasons': 1,\n 'moderation': 1,\n 'Please': 1,\n 'refer': 1,\n 'help': 1,\n 'center': 1,\n 'possible': 1,\n 'explanations': 1,\n 'might': 2,\n 'Here': 1,\n 'similar': 2,\n 'questions': 3,\n 'relevant': 1,\n 'Try': 2,\n 'Google': 1,\n 'Search': 1,\n 'searching': 1,\n 'Browse': 2,\n 'recent': 1,\n 'popular': 1,\n 'tags': 1,\n 'If': 1,\n 'feel': 1,\n 'something': 1,\n 'missing': 1,\n 'contact': 1,\n 'us': 1,\n 'Your': 1,\n 'privacy': 1,\n 'By': 1,\n 'clicking': 1,\n 'Accept': 1,\n 'cookies': 2,\n 'agree': 1,\n 'Exchange': 1,\n 'store': 1,\n 'device': 1,\n 'disclose': 1,\n 'information': 1,\n 'accordance': 1,\n 'Cookie': 1,\n 'Policy': 1}"
     },
     "execution_count": 95,
     "metadata": {},
     "output_type": "execute_result"
    }
   ],
   "source": [
    "word_frequencies = {}\n",
    "for word in nltk.word_tokenize(formatted_article_text):\n",
    "    if word not in stop_words:\n",
    "        if word not in word_frequencies.keys():\n",
    "            word_frequencies[word] = 1\n",
    "        else:\n",
    "            word_frequencies[word] += 1\n",
    "word_frequencies"
   ],
   "metadata": {
    "collapsed": false,
    "ExecuteTime": {
     "end_time": "2023-05-05T02:08:58.971677Z",
     "start_time": "2023-05-05T02:08:58.968028Z"
    }
   }
  },
  {
   "cell_type": "code",
   "execution_count": 96,
   "outputs": [
    {
     "data": {
      "text/plain": "{'Find': 0.3333333333333333,\n 'centralized': 0.3333333333333333,\n 'trusted': 0.3333333333333333,\n 'content': 0.3333333333333333,\n 'collaborate': 0.3333333333333333,\n 'around': 0.3333333333333333,\n 'technologies': 0.3333333333333333,\n 'use': 0.3333333333333333,\n 'Teams': 0.3333333333333333,\n 'Q': 0.3333333333333333,\n 'A': 0.3333333333333333,\n 'work': 0.3333333333333333,\n 'Connect': 0.3333333333333333,\n 'share': 0.3333333333333333,\n 'knowledge': 0.3333333333333333,\n 'within': 0.3333333333333333,\n 'single': 0.3333333333333333,\n 'location': 0.3333333333333333,\n 'structured': 0.3333333333333333,\n 'easy': 0.3333333333333333,\n 'search': 0.3333333333333333,\n 'This': 0.3333333333333333,\n 'question': 0.6666666666666666,\n 'removed': 0.6666666666666666,\n 'Stack': 0.6666666666666666,\n 'Overflow': 0.3333333333333333,\n 'reasons': 0.3333333333333333,\n 'moderation': 0.3333333333333333,\n 'Please': 0.3333333333333333,\n 'refer': 0.3333333333333333,\n 'help': 0.3333333333333333,\n 'center': 0.3333333333333333,\n 'possible': 0.3333333333333333,\n 'explanations': 0.3333333333333333,\n 'might': 0.6666666666666666,\n 'Here': 0.3333333333333333,\n 'similar': 0.6666666666666666,\n 'questions': 1.0,\n 'relevant': 0.3333333333333333,\n 'Try': 0.6666666666666666,\n 'Google': 0.3333333333333333,\n 'Search': 0.3333333333333333,\n 'searching': 0.3333333333333333,\n 'Browse': 0.6666666666666666,\n 'recent': 0.3333333333333333,\n 'popular': 0.3333333333333333,\n 'tags': 0.3333333333333333,\n 'If': 0.3333333333333333,\n 'feel': 0.3333333333333333,\n 'something': 0.3333333333333333,\n 'missing': 0.3333333333333333,\n 'contact': 0.3333333333333333,\n 'us': 0.3333333333333333,\n 'Your': 0.3333333333333333,\n 'privacy': 0.3333333333333333,\n 'By': 0.3333333333333333,\n 'clicking': 0.3333333333333333,\n 'Accept': 0.3333333333333333,\n 'cookies': 0.6666666666666666,\n 'agree': 0.3333333333333333,\n 'Exchange': 0.3333333333333333,\n 'store': 0.3333333333333333,\n 'device': 0.3333333333333333,\n 'disclose': 0.3333333333333333,\n 'information': 0.3333333333333333,\n 'accordance': 0.3333333333333333,\n 'Cookie': 0.3333333333333333,\n 'Policy': 0.3333333333333333}"
     },
     "execution_count": 96,
     "metadata": {},
     "output_type": "execute_result"
    }
   ],
   "source": [
    "maximum_frequency = max(word_frequencies.values())\n",
    "\n",
    "for word in word_frequencies.keys():\n",
    "    word_frequencies[word] = (word_frequencies[word]/maximum_frequency)\n",
    "word_frequencies"
   ],
   "metadata": {
    "collapsed": false,
    "ExecuteTime": {
     "end_time": "2023-05-05T02:09:00.240342Z",
     "start_time": "2023-05-05T02:09:00.235126Z"
    }
   }
  },
  {
   "cell_type": "code",
   "execution_count": 97,
   "outputs": [
    {
     "data": {
      "text/plain": "{'Find centralized, trusted content and collaborate around the technologies you use most.': 2.333333333333333,\n 'Teams Q&A for work Connect and share knowledge within a single location that is structured and easy to search.': 3.0,\n 'This question was removed from Stack Overflow for reasons of moderation.': 1.9999999999999998,\n 'Please refer to the help center for possible explanations why a question might be removed.': 3.666666666666666,\n 'Your privacy By clicking “Accept all cookies”, you agree Stack Exchange can store cookies on your device and disclose information in accordance with our Cookie Policy.': 4.0}"
     },
     "execution_count": 97,
     "metadata": {},
     "output_type": "execute_result"
    }
   ],
   "source": [
    "sentence_scores = {}\n",
    "for sent in sentence_list:\n",
    "    for word in nltk.word_tokenize(sent.lower()):\n",
    "        if word in word_frequencies.keys():\n",
    "            if len(sent.split(' ')) < 30:\n",
    "                if sent not in sentence_scores.keys():\n",
    "                    sentence_scores[sent] = word_frequencies[word]\n",
    "                else:\n",
    "                    sentence_scores[sent] += word_frequencies[word]\n",
    "sentence_scores"
   ],
   "metadata": {
    "collapsed": false,
    "ExecuteTime": {
     "end_time": "2023-05-05T02:09:03.240093Z",
     "start_time": "2023-05-05T02:09:03.236406Z"
    }
   }
  },
  {
   "cell_type": "code",
   "execution_count": 98,
   "outputs": [
    {
     "data": {
      "text/plain": "'Your privacy By clicking “Accept all cookies”, you agree Stack Exchange can store cookies on your device and disclose information in accordance with our Cookie Policy.'"
     },
     "execution_count": 98,
     "metadata": {},
     "output_type": "execute_result"
    }
   ],
   "source": [
    "import heapq\n",
    "summary_sentences = heapq.nlargest(1, sentence_scores, key=sentence_scores.get)\n",
    "\n",
    "' '.join(summary_sentences)"
   ],
   "metadata": {
    "collapsed": false,
    "ExecuteTime": {
     "end_time": "2023-05-05T02:09:05.508298Z",
     "start_time": "2023-05-05T02:09:05.504038Z"
    }
   }
  },
  {
   "cell_type": "code",
   "execution_count": null,
   "outputs": [],
   "source": [],
   "metadata": {
    "collapsed": false
   }
  }
 ],
 "metadata": {
  "kernelspec": {
   "display_name": "Python 3",
   "language": "python",
   "name": "python3"
  },
  "language_info": {
   "codemirror_mode": {
    "name": "ipython",
    "version": 2
   },
   "file_extension": ".py",
   "mimetype": "text/x-python",
   "name": "python",
   "nbconvert_exporter": "python",
   "pygments_lexer": "ipython2",
   "version": "2.7.6"
  }
 },
 "nbformat": 4,
 "nbformat_minor": 0
}
