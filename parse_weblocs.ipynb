{
 "cells": [
  {
   "cell_type": "code",
   "execution_count": 1,
   "outputs": [
    {
     "data": {
      "text/plain": "['/Users/hayden/Projects/bookmarks/data/3M Painter’s Tape Film Applicator Review - Tips for Use | Apartment Therapy.webloc',\n '/Users/hayden/Projects/bookmarks/data/Home - EarthRoamer.webloc',\n '/Users/hayden/Projects/bookmarks/data/Inngest - Effortless serverless queues, background jobs, and workflows.webloc',\n '/Users/hayden/Projects/bookmarks/data/3 bedroom Flat for rent in Holloway.webloc']"
     },
     "execution_count": 1,
     "metadata": {},
     "output_type": "execute_result"
    }
   ],
   "source": [
    "from bookmarks import data_dir\n",
    "from glob import glob\n",
    "\n",
    "bookmark_files: list[str] = glob(f'{data_dir}/*.webloc') + glob(f'{data_dir}/*.url')\n",
    "bookmark_files"
   ],
   "metadata": {
    "collapsed": false,
    "ExecuteTime": {
     "end_time": "2023-06-20T14:03:37.222965Z",
     "start_time": "2023-06-20T14:03:37.213245Z"
    }
   }
  },
  {
   "cell_type": "code",
   "execution_count": 2,
   "outputs": [
    {
     "data": {
      "text/plain": "(Webloc(url='https://www.apartmenttherapy.com/painters-tape-dispenser-review-tips-37266774?utm_source=facebook&utm_medium=social&utm_campaign=managed', title='3M Painter’s Tape Film Applicator Review - Tips for Use | Apartment Therapy', domain='www.apartmenttherapy.com', bookmark_source='/Users/hayden/Projects/bookmarks/data/3M Painter’s Tape Film Applicator Review - Tips for Use | Apartment Therapy.webloc'),\n Webloc(url='https://earthroamer.com/', title='Home - EarthRoamer', domain='earthroamer.com', bookmark_source='/Users/hayden/Projects/bookmarks/data/Home - EarthRoamer.webloc'),\n Webloc(url='https://www.inngest.com/', title='Inngest - Effortless serverless queues, background jobs, and workflows', domain='www.inngest.com', bookmark_source='/Users/hayden/Projects/bookmarks/data/Inngest - Effortless serverless queues, background jobs, and workflows.webloc'),\n Webloc(url='https://www.guildproperty.co.uk/property-to-rent/holloway/n7-0lt/1872711', title='3 bedroom Flat for rent in Holloway', domain='www.guildproperty.co.uk', bookmark_source='/Users/hayden/Projects/bookmarks/data/3 bedroom Flat for rent in Holloway.webloc'))"
     },
     "execution_count": 2,
     "metadata": {},
     "output_type": "execute_result"
    }
   ],
   "source": [
    "from bookmarks.parser import Parser\n",
    "parsed_files: tuple = tuple(Parser.create(bf) for bf in bookmark_files)\n",
    "parsed_files"
   ],
   "metadata": {
    "collapsed": false,
    "ExecuteTime": {
     "end_time": "2023-06-20T14:03:41.884058Z",
     "start_time": "2023-06-20T14:03:41.867044Z"
    }
   }
  },
  {
   "cell_type": "code",
   "execution_count": 3,
   "outputs": [],
   "source": [
    "from bookmarks.bookmark import Bookmark\n",
    "from bookmarks import project_dir\n",
    "import sqlite3\n",
    "\n",
    "conn = sqlite3.connect(f\"{project_dir}/bookmarks.db\")\n",
    "cursor = conn.cursor()\n",
    "insert_query: str = \"insert or ignore into bookmarks (url, title, domain, checksum) values (?,?,?,?)\"\n",
    "for pf in parsed_files:\n",
    "     b = Bookmark(**pf.asdict())\n",
    "     cursor.execute(insert_query, tuple(b))\n",
    "\n",
    "conn.commit()\n",
    "conn.close()\n"
   ],
   "metadata": {
    "collapsed": false,
    "ExecuteTime": {
     "end_time": "2023-06-20T14:03:51.167526Z",
     "start_time": "2023-06-20T14:03:51.160807Z"
    }
   }
  },
  {
   "cell_type": "code",
   "execution_count": null,
   "outputs": [],
   "source": [],
   "metadata": {
    "collapsed": false
   }
  }
 ],
 "metadata": {
  "kernelspec": {
   "display_name": "Python 3",
   "language": "python",
   "name": "python3"
  },
  "language_info": {
   "codemirror_mode": {
    "name": "ipython",
    "version": 2
   },
   "file_extension": ".py",
   "mimetype": "text/x-python",
   "name": "python",
   "nbconvert_exporter": "python",
   "pygments_lexer": "ipython2",
   "version": "2.7.6"
  }
 },
 "nbformat": 4,
 "nbformat_minor": 0
}
