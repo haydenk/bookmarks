{
 "cells": [
  {
   "cell_type": "code",
   "source": [
    "from bookmarks import data_dir\n",
    "from glob import glob\n",
    "\n",
    "bookmark_files: list[str] = glob(f'{data_dir}/*.webloc') + glob(f'{data_dir}/*.url')\n",
    "bookmark_files"
   ],
   "metadata": {
    "collapsed": false,
    "ExecuteTime": {
     "end_time": "2024-08-13T14:48:11.269755Z",
     "start_time": "2024-08-13T14:48:11.259375Z"
    }
   },
   "outputs": [
    {
     "data": {
      "text/plain": [
       "['/Users/haydenk/Projects/bookmarks/data/Mastering Go Project Structure- Best Practices for Optimal Organization | by Brandon Wofford | Mediu….webloc',\n",
       " '/Users/haydenk/Projects/bookmarks/data/Go - Project Structure and Guidelines - DEV Community.webloc',\n",
       " '/Users/haydenk/Projects/bookmarks/data/Organizing a Go module - The Go Programming Language.webloc',\n",
       " '/Users/haydenk/Projects/bookmarks/data/Getting Started with Go- Project Structure | by Mike Dyne | Evendyne | Medium.webloc',\n",
       " '/Users/haydenk/Projects/bookmarks/data/How to Structure Your Project in Golang- The Backend Developer’s Guide | by inDrive.Tech | Geek Cult….webloc',\n",
       " '/Users/haydenk/Projects/bookmarks/data/Over 5000+ free icons for macOS Monterey, Big Sur & iOS - massive app icon pack.webloc',\n",
       " '/Users/haydenk/Projects/bookmarks/data/Import a TOML file | Bun Examples.webloc',\n",
       " '/Users/haydenk/Projects/bookmarks/data/How to Structure a Golang Project | Boot.dev.webloc']"
      ]
     },
     "execution_count": 1,
     "metadata": {},
     "output_type": "execute_result"
    }
   ],
   "execution_count": 1
  },
  {
   "cell_type": "code",
   "source": [
    "from bookmarks.parser import Parser\n",
    "parsed_files: tuple = tuple(Parser.create(bf) for bf in bookmark_files)\n",
    "parsed_files"
   ],
   "metadata": {
    "collapsed": false,
    "ExecuteTime": {
     "end_time": "2024-08-13T14:49:01.910976Z",
     "start_time": "2024-08-13T14:49:01.905421Z"
    }
   },
   "outputs": [
    {
     "data": {
      "text/plain": [
       "(Webloc(url='https://bwoff.medium.com/mastering-go-project-structure-best-practices-for-optimal-organization-3021aeb6ea0c', title='Mastering Go Project Structure- Best Practices for Optimal Organization | by Brandon Wofford | Mediu…', domain='bwoff.medium.com', bookmark_source='/Users/haydenk/Projects/bookmarks/data/Mastering Go Project Structure- Best Practices for Optimal Organization | by Brandon Wofford | Mediu….webloc'),\n",
       " Webloc(url='https://dev.to/jinxankit/go-project-structure-and-guidelines-4ccm', title='Go - Project Structure and Guidelines - DEV Community', domain='dev.to', bookmark_source='/Users/haydenk/Projects/bookmarks/data/Go - Project Structure and Guidelines - DEV Community.webloc'),\n",
       " Webloc(url='https://go.dev/doc/modules/layout', title='Organizing a Go module - The Go Programming Language', domain='go.dev', bookmark_source='/Users/haydenk/Projects/bookmarks/data/Organizing a Go module - The Go Programming Language.webloc'),\n",
       " Webloc(url='https://medium.com/evendyne/getting-started-with-go-project-structure-ab8814ded9c3', title='Getting Started with Go- Project Structure | by Mike Dyne | Evendyne | Medium', domain='medium.com', bookmark_source='/Users/haydenk/Projects/bookmarks/data/Getting Started with Go- Project Structure | by Mike Dyne | Evendyne | Medium.webloc'),\n",
       " Webloc(url='https://medium.com/geekculture/how-to-structure-your-project-in-golang-the-backend-developers-guide-31be05c6fdd9', title='How to Structure Your Project in Golang- The Backend Developer’s Guide | by inDrive.Tech | Geek Cult…', domain='medium.com', bookmark_source='/Users/haydenk/Projects/bookmarks/data/How to Structure Your Project in Golang- The Backend Developer’s Guide | by inDrive.Tech | Geek Cult….webloc'),\n",
       " Webloc(url='https://macosicons.com/#/', title='Over 5000+ free icons for macOS Monterey, Big Sur & iOS - massive app icon pack', domain='macosicons.com', bookmark_source='/Users/haydenk/Projects/bookmarks/data/Over 5000+ free icons for macOS Monterey, Big Sur & iOS - massive app icon pack.webloc'),\n",
       " Webloc(url='https://bun.sh/guides/runtime/import-toml', title='Import a TOML file | Bun Examples', domain='bun.sh', bookmark_source='/Users/haydenk/Projects/bookmarks/data/Import a TOML file | Bun Examples.webloc'),\n",
       " Webloc(url='https://blog.boot.dev/golang/golang-project-structure/', title='How to Structure a Golang Project | Boot.dev', domain='blog.boot.dev', bookmark_source='/Users/haydenk/Projects/bookmarks/data/How to Structure a Golang Project | Boot.dev.webloc'))"
      ]
     },
     "execution_count": 3,
     "metadata": {},
     "output_type": "execute_result"
    }
   ],
   "execution_count": 3
  },
  {
   "cell_type": "code",
   "source": [
    "from bookmarks.bookmark import Bookmark\n",
    "from bookmarks import project_dir\n",
    "import sqlite3\n",
    "\n",
    "conn = sqlite3.connect(f\"{project_dir}/bookmarks.db\")\n",
    "cursor = conn.cursor()\n",
    "insert_query: str = \"insert or ignore into bookmarks (url, title, domain, checksum) values (?,?,?,?)\"\n",
    "for pf in parsed_files:\n",
    "     b = Bookmark(**pf.asdict())\n",
    "     cursor.execute(insert_query, tuple(b))\n",
    "\n",
    "conn.commit()\n",
    "conn.close()\n"
   ],
   "metadata": {
    "collapsed": false,
    "ExecuteTime": {
     "end_time": "2024-08-13T14:49:04.863437Z",
     "start_time": "2024-08-13T14:49:04.857859Z"
    }
   },
   "outputs": [],
   "execution_count": 4
  },
  {
   "cell_type": "code",
   "source": [],
   "metadata": {
    "collapsed": false
   },
   "outputs": [],
   "execution_count": null
  }
 ],
 "metadata": {
  "kernelspec": {
   "display_name": "Python 3",
   "language": "python",
   "name": "python3"
  },
  "language_info": {
   "codemirror_mode": {
    "name": "ipython",
    "version": 2
   },
   "file_extension": ".py",
   "mimetype": "text/x-python",
   "name": "python",
   "nbconvert_exporter": "python",
   "pygments_lexer": "ipython2",
   "version": "2.7.6"
  }
 },
 "nbformat": 4,
 "nbformat_minor": 0
}
