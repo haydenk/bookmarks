{
 "cells": [
  {
   "cell_type": "code",
   "execution_count": 4,
   "outputs": [
    {
     "data": {
      "text/plain": "['/Users/hayden/Projects/bookmarks/data/Overnight Oats with Jam Recipe.webloc',\n '/Users/hayden/Projects/bookmarks/data/How to Python Logging 🐍🌴.url',\n \"/Users/hayden/Projects/bookmarks/data/Using YubiKey PIV with Windows' native SSH client – Yubico.url\"]"
     },
     "execution_count": 4,
     "metadata": {},
     "output_type": "execute_result"
    }
   ],
   "source": [
    "from bookmarks import data_dir\n",
    "from glob import glob\n",
    "\n",
    "bookmark_files: list[str] = glob(f'{data_dir}/*.webloc') + glob(f'{data_dir}/*.url')\n",
    "bookmark_files"
   ],
   "metadata": {
    "collapsed": false,
    "ExecuteTime": {
     "end_time": "2023-06-13T02:22:50.974094Z",
     "start_time": "2023-06-13T02:22:50.969385Z"
    }
   }
  },
  {
   "cell_type": "code",
   "execution_count": 5,
   "outputs": [
    {
     "data": {
      "text/plain": "(Webloc(url='https://www.allrecipes.com/recipe/269988/overnight-oats-with-jam/', title='Overnight Oats with Jam Recipe', domain='www.allrecipes.com', bookmark_source='/Users/hayden/Projects/bookmarks/data/Overnight Oats with Jam Recipe.webloc'),\n InternetShortcut(url='https://guicommits.com/how-to-log-in-python-like-a-pro/', title='How to Python Logging 🐍🌴', domain='guicommits.com', bookmark_source='/Users/hayden/Projects/bookmarks/data/How to Python Logging 🐍🌴.url'),\n InternetShortcut(url='https://support.yubico.com/hc/en-us/articles/360021606180-Using-YubiKey-PIV-with-Windows-native-SSH-client', title=\"Using YubiKey PIV with Windows' native SSH client – Yubico\", domain='support.yubico.com', bookmark_source=\"/Users/hayden/Projects/bookmarks/data/Using YubiKey PIV with Windows' native SSH client – Yubico.url\"))"
     },
     "execution_count": 5,
     "metadata": {},
     "output_type": "execute_result"
    }
   ],
   "source": [
    "from bookmarks.parser import Parser\n",
    "parsed_files: tuple = tuple(Parser.create(bf) for bf in bookmark_files)\n",
    "parsed_files"
   ],
   "metadata": {
    "collapsed": false,
    "ExecuteTime": {
     "end_time": "2023-06-13T02:22:52.967669Z",
     "start_time": "2023-06-13T02:22:52.962731Z"
    }
   }
  },
  {
   "cell_type": "code",
   "execution_count": 6,
   "outputs": [],
   "source": [
    "from bookmarks.bookmark import Bookmark\n",
    "from bookmarks import project_dir\n",
    "import sqlite3\n",
    "\n",
    "conn = sqlite3.connect(f\"{project_dir}/bookmarks.db\")\n",
    "cursor = conn.cursor()\n",
    "insert_query: str = \"insert or ignore into bookmarks (url, title, domain, checksum) values (?,?,?,?)\"\n",
    "for pf in parsed_files:\n",
    "     b = Bookmark(**pf.asdict())\n",
    "     cursor.execute(insert_query, tuple(b))\n",
    "\n",
    "conn.commit()\n",
    "conn.close()\n"
   ],
   "metadata": {
    "collapsed": false,
    "ExecuteTime": {
     "end_time": "2023-06-13T02:22:58.097848Z",
     "start_time": "2023-06-13T02:22:58.093099Z"
    }
   }
  },
  {
   "cell_type": "code",
   "execution_count": null,
   "outputs": [],
   "source": [],
   "metadata": {
    "collapsed": false
   }
  }
 ],
 "metadata": {
  "kernelspec": {
   "display_name": "Python 3",
   "language": "python",
   "name": "python3"
  },
  "language_info": {
   "codemirror_mode": {
    "name": "ipython",
    "version": 2
   },
   "file_extension": ".py",
   "mimetype": "text/x-python",
   "name": "python",
   "nbconvert_exporter": "python",
   "pygments_lexer": "ipython2",
   "version": "2.7.6"
  }
 },
 "nbformat": 4,
 "nbformat_minor": 0
}
