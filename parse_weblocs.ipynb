{
 "cells": [
  {
   "cell_type": "code",
   "execution_count": 21,
   "metadata": {
    "collapsed": true,
    "ExecuteTime": {
     "end_time": "2023-06-11T16:47:30.725338Z",
     "start_time": "2023-06-11T16:47:30.720867Z"
    }
   },
   "outputs": [
    {
     "data": {
      "text/plain": "['/Users/hayden/Projects/bookmarks/data/How to create a jailed SFTP user (chroot jail) | TurnKey GNU-Linux.webloc',\n '/Users/hayden/Projects/bookmarks/data/Stripe- Help & Support.webloc',\n \"/Users/hayden/Projects/bookmarks/data/Buy Buffalo Leather Messenger Briefcase Bag Online in USA at Lowest Prices | Sam's Buffalo.webloc\"]"
     },
     "execution_count": 21,
     "metadata": {},
     "output_type": "execute_result"
    }
   ],
   "source": [
    "from bookmarks import data_dir\n",
    "from glob import glob\n",
    "\n",
    "bookmark_files: list[str] = glob(f'{data_dir}/*.webloc') + glob(f'{data_dir}/*.URL')\n",
    "bookmark_files"
   ]
  },
  {
   "cell_type": "code",
   "execution_count": 22,
   "outputs": [
    {
     "data": {
      "text/plain": "(Webloc(url='https://www.turnkeylinux.org/docs/set-up-sftp-chroot-jail', title='How to create a jailed SFTP user (chroot jail) | TurnKey GNU-Linux', domain='www.turnkeylinux.org', bookmark_source='/Users/hayden/Projects/bookmarks/data/How to create a jailed SFTP user (chroot jail) | TurnKey GNU-Linux.webloc'),\n Webloc(url='https://support.stripe.com/user/how-do-i-disconnect-my-linked-financial-account', title='Stripe- Help & Support', domain='support.stripe.com', bookmark_source='/Users/hayden/Projects/bookmarks/data/Stripe- Help & Support.webloc'),\n Webloc(url='https://samsbuffalo.com/collections/leather-briefcase/products/buffalo-leather-messenger-briefcase-bag', title=\"Buy Buffalo Leather Messenger Briefcase Bag Online in USA at Lowest Prices | Sam's Buffalo\", domain='samsbuffalo.com', bookmark_source=\"/Users/hayden/Projects/bookmarks/data/Buy Buffalo Leather Messenger Briefcase Bag Online in USA at Lowest Prices | Sam's Buffalo.webloc\"))"
     },
     "execution_count": 22,
     "metadata": {},
     "output_type": "execute_result"
    }
   ],
   "source": [
    "from bookmarks.parser import Parser\n",
    "parsed_files: tuple = tuple(Parser.create(bf) for bf in bookmark_files)\n",
    "parsed_files"
   ],
   "metadata": {
    "collapsed": false,
    "ExecuteTime": {
     "end_time": "2023-06-11T16:47:34.738471Z",
     "start_time": "2023-06-11T16:47:34.732492Z"
    }
   }
  },
  {
   "cell_type": "code",
   "execution_count": 23,
   "outputs": [],
   "source": [
    "from bookmarks.bookmark import Bookmark\n",
    "from bookmarks import project_dir\n",
    "import sqlite3\n",
    "\n",
    "conn = sqlite3.connect(f\"{project_dir}/bookmarks.db\")\n",
    "cursor = conn.cursor()\n",
    "insert_query: str = \"insert or ignore into bookmarks (url, title, domain, checksum) values (?,?,?,?)\"\n",
    "for pf in parsed_files:\n",
    "     b = Bookmark(**pf.asdict())\n",
    "     cursor.execute(insert_query, tuple(b))\n",
    "\n",
    "conn.commit()\n",
    "conn.close()\n"
   ],
   "metadata": {
    "collapsed": false,
    "ExecuteTime": {
     "end_time": "2023-06-11T16:47:38.134626Z",
     "start_time": "2023-06-11T16:47:38.129213Z"
    }
   }
  },
  {
   "cell_type": "code",
   "execution_count": null,
   "outputs": [],
   "source": [],
   "metadata": {
    "collapsed": false
   }
  }
 ],
 "metadata": {
  "kernelspec": {
   "display_name": "Python 3",
   "language": "python",
   "name": "python3"
  },
  "language_info": {
   "codemirror_mode": {
    "name": "ipython",
    "version": 2
   },
   "file_extension": ".py",
   "mimetype": "text/x-python",
   "name": "python",
   "nbconvert_exporter": "python",
   "pygments_lexer": "ipython2",
   "version": "2.7.6"
  }
 },
 "nbformat": 4,
 "nbformat_minor": 0
}
