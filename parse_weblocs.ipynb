{
 "cells": [
  {
   "cell_type": "code",
   "execution_count": 6,
   "outputs": [
    {
     "data": {
      "text/plain": "['/Users/hayden/Projects/bookmarks/data/9713 Glenshee Dr, Rowlett, TX 75089 | MLS# 20388928 | Redfin 2.webloc',\n '/Users/hayden/Projects/bookmarks/data/CoreWeave — The GPU Cloud.webloc',\n '/Users/hayden/Projects/bookmarks/data/2909 Highwood Dr, Dallas, TX 75228 | MLS# 20365351 | Redfin.webloc',\n '/Users/hayden/Projects/bookmarks/data/2909 Highwood Dr, Dallas, TX 75228 | Estately 🧡 | MLS# 20365351.webloc',\n '/Users/hayden/Projects/bookmarks/data/3406 Orchid Ln, Rowlett, TX 75089 | MLS# 20369347 | Redfin.webloc',\n '/Users/hayden/Projects/bookmarks/data/3408 Jonquil Ln, Rowlett, TX 75089 | MLS# 20390433 | Redfin.webloc',\n '/Users/hayden/Projects/bookmarks/data/2517 Larkspur Ln, Rowlett, TX 75089 | MLS# 20383930 | Redfin.webloc',\n '/Users/hayden/Projects/bookmarks/data/Level 1 Techs.webloc',\n '/Users/hayden/Projects/bookmarks/data/9713 Glenshee Dr, Rowlett, TX 75089 | MLS# 20388928 | Redfin.webloc',\n '/Users/hayden/Projects/bookmarks/data/5605 Highgate Ln, Rowlett, TX 75088 | MLS# 20388695 | Redfin.webloc']"
     },
     "execution_count": 6,
     "metadata": {},
     "output_type": "execute_result"
    }
   ],
   "source": [
    "from bookmarks import data_dir\n",
    "from glob import glob\n",
    "\n",
    "bookmark_files: list[str] = glob(f'{data_dir}/*.webloc') + glob(f'{data_dir}/*.url')\n",
    "bookmark_files"
   ],
   "metadata": {
    "collapsed": false,
    "ExecuteTime": {
     "end_time": "2023-07-30T20:57:01.850203Z",
     "start_time": "2023-07-30T20:57:01.846229Z"
    }
   }
  },
  {
   "cell_type": "code",
   "execution_count": 8,
   "outputs": [
    {
     "data": {
      "text/plain": "(Webloc(url='https://www.redfin.com/TX/Rowlett/9713-Glenshee-Dr-75089/home/32028262?utm_channel=cta&utm_source=Iterable&utm_medium=email&utm_campaign=1038225', title='9713 Glenshee Dr, Rowlett, TX 75089 | MLS# 20388928 | Redfin 2', domain='www.redfin.com', bookmark_source='/Users/hayden/Projects/bookmarks/data/9713 Glenshee Dr, Rowlett, TX 75089 | MLS# 20388928 | Redfin 2.webloc'),\n Webloc(url='https://www.coreweave.com/', title='CoreWeave — The GPU Cloud', domain='www.coreweave.com', bookmark_source='/Users/hayden/Projects/bookmarks/data/CoreWeave — The GPU Cloud.webloc'),\n Webloc(url='https://www.redfin.com/TX/Dallas/2909-Highwood-Dr-75228/home/31003642', title='2909 Highwood Dr, Dallas, TX 75228 | MLS# 20365351 | Redfin', domain='www.redfin.com', bookmark_source='/Users/hayden/Projects/bookmarks/data/2909 Highwood Dr, Dallas, TX 75228 | MLS# 20365351 | Redfin.webloc'),\n Webloc(url='https://www.estately.com/listings/info/2909-highwood-drive-dallas-tx-75228', title='2909 Highwood Dr, Dallas, TX 75228 | Estately 🧡 | MLS# 20365351', domain='www.estately.com', bookmark_source='/Users/hayden/Projects/bookmarks/data/2909 Highwood Dr, Dallas, TX 75228 | Estately 🧡 | MLS# 20365351.webloc'),\n Webloc(url='https://www.redfin.com/TX/Rowlett/3406-Orchid-Ln-75089/home/31998056?utm_channel=cta&utm_source=Iterable&utm_medium=email&utm_campaign=1038718', title='3406 Orchid Ln, Rowlett, TX 75089 | MLS# 20369347 | Redfin', domain='www.redfin.com', bookmark_source='/Users/hayden/Projects/bookmarks/data/3406 Orchid Ln, Rowlett, TX 75089 | MLS# 20369347 | Redfin.webloc'),\n Webloc(url='https://www.redfin.com/TX/Rowlett/3408-Jonquil-Ln-75089/home/31997763?utm_channel=addr&utm_source=Iterable&utm_medium=email&utm_campaign=1038213', title='3408 Jonquil Ln, Rowlett, TX 75089 | MLS# 20390433 | Redfin', domain='www.redfin.com', bookmark_source='/Users/hayden/Projects/bookmarks/data/3408 Jonquil Ln, Rowlett, TX 75089 | MLS# 20390433 | Redfin.webloc'),\n Webloc(url='https://www.redfin.com/TX/Rowlett/2517-Larkspur-Ln-75089/home/31996317?utm_channel=addr&utm_source=Iterable&utm_medium=email&utm_campaign=1038213', title='2517 Larkspur Ln, Rowlett, TX 75089 | MLS# 20383930 | Redfin', domain='www.redfin.com', bookmark_source='/Users/hayden/Projects/bookmarks/data/2517 Larkspur Ln, Rowlett, TX 75089 | MLS# 20383930 | Redfin.webloc'),\n Webloc(url='https://store.level1techs.com/?category=Hardware', title='Level 1 Techs', domain='store.level1techs.com', bookmark_source='/Users/hayden/Projects/bookmarks/data/Level 1 Techs.webloc'),\n Webloc(url='https://www.redfin.com/TX/Rowlett/9713-Glenshee-Dr-75089/home/32028262?utm_channel=cta&utm_source=Iterable&utm_medium=email&utm_campaign=1038225', title='9713 Glenshee Dr, Rowlett, TX 75089 | MLS# 20388928 | Redfin', domain='www.redfin.com', bookmark_source='/Users/hayden/Projects/bookmarks/data/9713 Glenshee Dr, Rowlett, TX 75089 | MLS# 20388928 | Redfin.webloc'),\n Webloc(url='https://www.redfin.com/TX/Rowlett/5605-Highgate-Ln-75088/home/31994726?utm_channel=addr&utm_source=Iterable&utm_medium=email&utm_campaign=1038213', title='5605 Highgate Ln, Rowlett, TX 75088 | MLS# 20388695 | Redfin', domain='www.redfin.com', bookmark_source='/Users/hayden/Projects/bookmarks/data/5605 Highgate Ln, Rowlett, TX 75088 | MLS# 20388695 | Redfin.webloc'))"
     },
     "execution_count": 8,
     "metadata": {},
     "output_type": "execute_result"
    }
   ],
   "source": [
    "from bookmarks.parser import Parser\n",
    "parsed_files: tuple = tuple(Parser.create(bf) for bf in bookmark_files)\n",
    "parsed_files"
   ],
   "metadata": {
    "collapsed": false,
    "ExecuteTime": {
     "end_time": "2023-07-30T20:57:14.814518Z",
     "start_time": "2023-07-30T20:57:14.807800Z"
    }
   }
  },
  {
   "cell_type": "code",
   "execution_count": 9,
   "outputs": [],
   "source": [
    "from bookmarks.bookmark import Bookmark\n",
    "from bookmarks import project_dir\n",
    "import sqlite3\n",
    "\n",
    "conn = sqlite3.connect(f\"{project_dir}/bookmarks.db\")\n",
    "cursor = conn.cursor()\n",
    "insert_query: str = \"insert or ignore into bookmarks (url, title, domain, checksum) values (?,?,?,?)\"\n",
    "for pf in parsed_files:\n",
    "     b = Bookmark(**pf.asdict())\n",
    "     cursor.execute(insert_query, tuple(b))\n",
    "\n",
    "conn.commit()\n",
    "conn.close()\n"
   ],
   "metadata": {
    "collapsed": false,
    "ExecuteTime": {
     "end_time": "2023-07-30T20:57:35.762332Z",
     "start_time": "2023-07-30T20:57:35.753867Z"
    }
   }
  },
  {
   "cell_type": "code",
   "execution_count": null,
   "outputs": [],
   "source": [],
   "metadata": {
    "collapsed": false
   }
  }
 ],
 "metadata": {
  "kernelspec": {
   "display_name": "Python 3",
   "language": "python",
   "name": "python3"
  },
  "language_info": {
   "codemirror_mode": {
    "name": "ipython",
    "version": 2
   },
   "file_extension": ".py",
   "mimetype": "text/x-python",
   "name": "python",
   "nbconvert_exporter": "python",
   "pygments_lexer": "ipython2",
   "version": "2.7.6"
  }
 },
 "nbformat": 4,
 "nbformat_minor": 0
}
